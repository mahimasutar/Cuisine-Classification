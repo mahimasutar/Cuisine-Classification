{
  "cells": [
    {
      "cell_type": "markdown",
      "metadata": {
        "id": "78cb64c8"
      },
      "source": [
        "### Import necessary libraries\n",
        "\n",
        "This code sets up a machine learning workflow for multi-label classification by importing tools for data preprocessing, feature transformation, model building (Logistic Regression, Random Forest with One-vs-Rest), evaluation, and label encoding."
      ]
    },
    {
      "cell_type": "code",
      "execution_count": 1,
      "metadata": {
        "id": "61217a62"
      },
      "outputs": [],
      "source": [
        "import pandas as pd\n",
        "from sklearn.model_selection import train_test_split\n",
        "from sklearn.compose import ColumnTransformer\n",
        "from sklearn.pipeline import Pipeline\n",
        "from sklearn.preprocessing import OneHotEncoder, StandardScaler\n",
        "from sklearn.impute import SimpleImputer\n",
        "from sklearn.linear_model import LogisticRegression\n",
        "from sklearn.metrics import classification_report\n",
        "from sklearn.multiclass import OneVsRestClassifier\n",
        "from sklearn.ensemble import RandomForestClassifier\n",
        "from sklearn.preprocessing import MultiLabelBinarizer\n",
        "from collections import Counter"
      ]
    },
    {
      "cell_type": "markdown",
      "metadata": {
        "id": "7540c657"
      },
      "source": [
        "### Define data path\n",
        "\n",
        "This line defines the file path to the dataset (Dataset.csv) stored on the E: drive for use in the ML project."
      ]
    },
    {
      "cell_type": "code",
      "execution_count": 2,
      "metadata": {
        "id": "a2a178a1"
      },
      "outputs": [],
      "source": [
        "DATA_PATH = r\"E:\\Backup\\Mahima\\ML Internship 2025\\Dataset.csv\""
      ]
    },
    {
      "cell_type": "markdown",
      "metadata": {
        "id": "09bd1398"
      },
      "source": [
        "### Load and preprocess data\n",
        "\n",
        "This code loads the dataset into a pandas DataFrame and standardizes column names by converting them to lowercase, stripping spaces, and replacing spaces with underscores."
      ]
    },
    {
      "cell_type": "code",
      "execution_count": 3,
      "metadata": {
        "id": "a19d2132"
      },
      "outputs": [],
      "source": [
        "df = pd.read_csv(DATA_PATH)\n",
        "df.columns = [c.strip().lower().replace(\" \", \"_\") for c in df.columns]"
      ]
    },
    {
      "cell_type": "markdown",
      "metadata": {
        "id": "509c73ca"
      },
      "source": [
        "### Prepare target variable and features\n",
        "\n",
        "This code processes the cuisines column into the top 10 most frequent cuisines using Counter, converts them into multi-label binary format with MultiLabelBinarizer, prepares X by dropping cuisines, and separates features into categorical and numerical columns."
      ]
    },
    {
      "cell_type": "code",
      "execution_count": 4,
      "metadata": {
        "id": "2f30d92f"
      },
      "outputs": [],
      "source": [
        "y_list = df[\"cuisines\"].fillna(\"\").apply(lambda s: [t.strip() for t in str(s).split(\",\") if t.strip()])\n",
        "ct = Counter()\n",
        "_ = y_list.apply(ct.update)\n",
        "top = [c for c,_ in ct.most_common(10)]\n",
        "y_list_top = y_list.apply(lambda items: [i for i in items if i in top])\n",
        "\n",
        "mlb = MultiLabelBinarizer(classes=top)\n",
        "Y = mlb.fit_transform(y_list_top)\n",
        "X = df.drop(columns=[\"cuisines\"])\n",
        "\n",
        "cat_cols = [c for c in X.columns if X[c].dtype==object]\n",
        "num_cols = [c for c in X.columns if X[c].dtype!=object]"
      ]
    },
    {
      "cell_type": "markdown",
      "metadata": {
        "id": "ff0614c6"
      },
      "source": [
        "### Create preprocessing pipelines for numerical and categorical features\n",
        "\n",
        "This code defines a ColumnTransformer that preprocesses numerical features by imputing missing values with the median and scaling them, and categorical features by imputing with the most frequent value and applying one-hot encoding."
      ]
    },
    {
      "cell_type": "code",
      "execution_count": 5,
      "metadata": {
        "id": "372c47eb"
      },
      "outputs": [],
      "source": [
        "preprocess = ColumnTransformer([\n",
        "    (\"num\", Pipeline([(\"impute\", SimpleImputer(strategy=\"median\")), (\"scale\", StandardScaler())]), num_cols),\n",
        "    (\"cat\", Pipeline([(\"impute\", SimpleImputer(strategy=\"most_frequent\")), (\"onehot\", OneHotEncoder(handle_unknown=\"ignore\"))]), cat_cols),\n",
        "])"
      ]
    },
    {
      "cell_type": "markdown",
      "metadata": {
        "id": "38a635c7"
      },
      "source": [
        "### Split data into training and testing sets\n",
        "\n",
        "This code splits the dataset into training and testing sets, using 80% for training and 20% for testing with a fixed random seed for reproducibility."
      ]
    },
    {
      "cell_type": "code",
      "execution_count": 6,
      "metadata": {
        "id": "0156fd37"
      },
      "outputs": [],
      "source": [
        "X_train, X_test, Y_train, Y_test = train_test_split(X, Y, test_size=0.2, random_state=42)"
      ]
    },
    {
      "cell_type": "markdown",
      "metadata": {
        "id": "65a9cb63"
      },
      "source": [
        "### Train and evaluate Logistic Regression model\n",
        "\n",
        "This code builds a pipeline that preprocesses the data and trains a One-vs-Rest Logistic Regression model, then prints a classification report comparing predictions against the test set."
      ]
    },
    {
      "cell_type": "code",
      "execution_count": 10,
      "metadata": {
        "colab": {
          "base_uri": "https://localhost:8080/"
        },
        "id": "2bc9c89d",
        "outputId": "554bc877-330c-4efa-8f5b-a75f2a9198ae"
      },
      "outputs": [
        {
          "name": "stdout",
          "output_type": "stream",
          "text": [
            "Logistic Regression:\n",
            "               precision    recall  f1-score   support\n",
            "\n",
            "North Indian       0.68      0.59      0.63       805\n",
            "     Chinese       0.63      0.28      0.39       555\n",
            "   Fast Food       0.87      0.25      0.39       401\n",
            "     Mughlai       1.00      0.09      0.17       185\n",
            "     Italian       0.71      0.16      0.26       159\n",
            "      Bakery       1.00      0.03      0.06       138\n",
            " Continental       0.57      0.28      0.38       137\n",
            "        Cafe       0.88      0.27      0.41       141\n",
            "    Desserts       1.00      0.09      0.16       114\n",
            "South Indian       1.00      0.08      0.15       149\n",
            "\n",
            "   micro avg       0.70      0.31      0.43      2784\n",
            "   macro avg       0.84      0.21      0.30      2784\n",
            "weighted avg       0.77      0.31      0.40      2784\n",
            " samples avg       0.33      0.26      0.28      2784\n",
            "\n"
          ]
        },
        {
          "name": "stderr",
          "output_type": "stream",
          "text": [
            "c:\\Users\\Admin\\AppData\\Local\\Programs\\Python\\Python313\\Lib\\site-packages\\sklearn\\metrics\\_classification.py:1565: UndefinedMetricWarning: Precision is ill-defined and being set to 0.0 in samples with no predicted labels. Use `zero_division` parameter to control this behavior.\n",
            "  _warn_prf(average, modifier, f\"{metric.capitalize()} is\", len(result))\n",
            "c:\\Users\\Admin\\AppData\\Local\\Programs\\Python\\Python313\\Lib\\site-packages\\sklearn\\metrics\\_classification.py:1565: UndefinedMetricWarning: Recall is ill-defined and being set to 0.0 in samples with no true labels. Use `zero_division` parameter to control this behavior.\n",
            "  _warn_prf(average, modifier, f\"{metric.capitalize()} is\", len(result))\n",
            "c:\\Users\\Admin\\AppData\\Local\\Programs\\Python\\Python313\\Lib\\site-packages\\sklearn\\metrics\\_classification.py:1565: UndefinedMetricWarning: F-score is ill-defined and being set to 0.0 in samples with no true nor predicted labels. Use `zero_division` parameter to control this behavior.\n",
            "  _warn_prf(average, modifier, f\"{metric.capitalize()} is\", len(result))\n"
          ]
        }
      ],
      "source": [
        "ovr_lr = Pipeline([(\"prep\", preprocess),(\"clf\", OneVsRestClassifier(LogisticRegression(max_iter=300)))])\n",
        "ovr_lr.fit(X_train, Y_train)\n",
        "print(\"Logistic Regression:\\n\", classification_report(Y_test, ovr_lr.predict(X_test), target_names=mlb.classes_))"
      ]
    },
    {
      "cell_type": "markdown",
      "metadata": {
        "id": "58bbb878"
      },
      "source": [
        "### Train and evaluate RandomForest model\n",
        "\n",
        "This code builds a pipeline that preprocesses the data and trains a One-vs-Rest Random Forest classifier with 200 trees, then prints the classification report on the test set."
      ]
    },
    {
      "cell_type": "code",
      "execution_count": 8,
      "metadata": {
        "id": "ac25baeb"
      },
      "outputs": [
        {
          "name": "stdout",
          "output_type": "stream",
          "text": [
            "RandomForest:\n",
            "               precision    recall  f1-score   support\n",
            "\n",
            "North Indian       0.70      0.55      0.62       805\n",
            "     Chinese       0.66      0.15      0.24       555\n",
            "   Fast Food       0.92      0.18      0.30       401\n",
            "     Mughlai       1.00      0.03      0.05       185\n",
            "     Italian       0.75      0.04      0.07       159\n",
            "      Bakery       1.00      0.01      0.01       138\n",
            " Continental       0.67      0.04      0.08       137\n",
            "        Cafe       0.95      0.26      0.40       141\n",
            "    Desserts       1.00      0.09      0.16       114\n",
            "South Indian       0.88      0.10      0.18       149\n",
            "\n",
            "   micro avg       0.73      0.24      0.36      2784\n",
            "   macro avg       0.85      0.14      0.21      2784\n",
            "weighted avg       0.80      0.24      0.32      2784\n",
            " samples avg       0.29      0.20      0.23      2784\n",
            "\n"
          ]
        },
        {
          "name": "stderr",
          "output_type": "stream",
          "text": [
            "c:\\Users\\Admin\\AppData\\Local\\Programs\\Python\\Python313\\Lib\\site-packages\\sklearn\\metrics\\_classification.py:1565: UndefinedMetricWarning: Precision is ill-defined and being set to 0.0 in samples with no predicted labels. Use `zero_division` parameter to control this behavior.\n",
            "  _warn_prf(average, modifier, f\"{metric.capitalize()} is\", len(result))\n",
            "c:\\Users\\Admin\\AppData\\Local\\Programs\\Python\\Python313\\Lib\\site-packages\\sklearn\\metrics\\_classification.py:1565: UndefinedMetricWarning: Recall is ill-defined and being set to 0.0 in samples with no true labels. Use `zero_division` parameter to control this behavior.\n",
            "  _warn_prf(average, modifier, f\"{metric.capitalize()} is\", len(result))\n",
            "c:\\Users\\Admin\\AppData\\Local\\Programs\\Python\\Python313\\Lib\\site-packages\\sklearn\\metrics\\_classification.py:1565: UndefinedMetricWarning: F-score is ill-defined and being set to 0.0 in samples with no true nor predicted labels. Use `zero_division` parameter to control this behavior.\n",
            "  _warn_prf(average, modifier, f\"{metric.capitalize()} is\", len(result))\n"
          ]
        }
      ],
      "source": [
        "ovr_rf = Pipeline([(\"prep\", preprocess),(\"clf\", OneVsRestClassifier(RandomForestClassifier(n_estimators=200, random_state=42)))])\n",
        "ovr_rf.fit(X_train, Y_train)\n",
        "print(\"RandomForest:\\n\", classification_report(Y_test, ovr_rf.predict(X_test), target_names=mlb.classes_))"
      ]
    }
  ],
  "metadata": {
    "colab": {
      "provenance": []
    },
    "kernelspec": {
      "display_name": "Python 3",
      "name": "python3"
    },
    "language_info": {
      "codemirror_mode": {
        "name": "ipython",
        "version": 3
      },
      "file_extension": ".py",
      "mimetype": "text/x-python",
      "name": "python",
      "nbconvert_exporter": "python",
      "pygments_lexer": "ipython3",
      "version": "3.13.5"
    }
  },
  "nbformat": 4,
  "nbformat_minor": 0
}
